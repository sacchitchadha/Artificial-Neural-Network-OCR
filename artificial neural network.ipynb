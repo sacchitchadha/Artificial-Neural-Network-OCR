{
 "cells": [
  {
   "cell_type": "code",
   "execution_count": 1,
   "metadata": {},
   "outputs": [],
   "source": [
    "import numpy as np\n",
    "import matplotlib.pyplot as plt\n",
    "import neurolab as nl\n",
    "%matplotlib inline"
   ]
  },
  {
   "cell_type": "markdown",
   "metadata": {},
   "source": [
    "### 1. Single Perceptron"
   ]
  },
  {
   "cell_type": "code",
   "execution_count": 2,
   "metadata": {},
   "outputs": [],
   "source": [
    "num_dataset = np.array([[0.26, 0.34, 0] , [0.11, 0.25, 0], [0.15, 0.30, 0], [0.79,0.19,1], [0.90,0.14,1]])"
   ]
  },
  {
   "cell_type": "code",
   "execution_count": 3,
   "metadata": {},
   "outputs": [],
   "source": [
    "features = num_dataset[:, :2]\n",
    "labels = num_dataset[:, 2].reshape(num_dataset.shape[0], 1)\n",
    "\n",
    "#print(features)\n",
    "#print(labels)"
   ]
  },
  {
   "cell_type": "code",
   "execution_count": 4,
   "metadata": {},
   "outputs": [
    {
     "data": {
      "text/plain": [
       "Text(0.5,1,'Input Data')"
      ]
     },
     "execution_count": 4,
     "metadata": {},
     "output_type": "execute_result"
    },
    {
     "data": {
      "image/png": "[encoded data removed]",
      "text/plain": [
       "<Figure size 432x288 with 1 Axes>"
      ]
     },
     "metadata": {},
     "output_type": "display_data"
    }
   ],
   "source": [
    "plt.scatter(features[:, 0], features[:, 1])\n",
    "plt.xlabel('1st Dimension')\n",
    "plt.ylabel('2nd Dimension')\n",
    "plt.title('Input Data')"
   ]
  },
  {
   "cell_type": "code",
   "execution_count": 5,
   "metadata": {},
   "outputs": [],
   "source": [
    "dimension1_min, dimension2_min, dimension1_max, dimension2_max = 0,0,1,1\n",
    "num_output = labels.shape[1]\n",
    "dimension1 = [dimension1_min, dimension1_max]\n",
    "dimension2 = [dimension2_min, dimension2_max]"
   ]
  },
  {
   "cell_type": "code",
   "execution_count": 6,
   "metadata": {},
   "outputs": [],
   "source": [
    "perceptron = nl.net.newp([dimension1, dimension2], num_output)"
   ]
  },
  {
   "cell_type": "code",
   "execution_count": 7,
   "metadata": {},
   "outputs": [
    {
     "name": "stdout",
     "output_type": "stream",
     "text": [
      "The goal of learning is reached\n"
     ]
    },
    {
     "data": {
      "image/png": "[encoded data removed]",
      "text/plain": [
       "<Figure size 432x288 with 1 Axes>"
      ]
     },
     "metadata": {},
     "output_type": "display_data"
    }
   ],
   "source": [
    "err_progress = perceptron.train(features, labels, epochs=100, show=20,lr=0.03)\n",
    "plt.plot(err_progress)\n",
    "plt.xlabel('Number of Epochs')\n",
    "plt.ylabel('Training Error')\n",
    "plt.title('Training Error Progress')\n",
    "plt.grid()"
   ]
  },
  {
   "cell_type": "code",
   "execution_count": 8,
   "metadata": {},
   "outputs": [
    {
     "data": {
      "text/plain": [
       "array([[1.]])"
      ]
     },
     "execution_count": 8,
     "metadata": {},
     "output_type": "execute_result"
    }
   ],
   "source": [
    "perceptron.sim([[0.81, 0.23]])"
   ]
  },
  {
   "cell_type": "markdown",
   "metadata": {},
   "source": [
    "### 2. Single Layer Neural Network"
   ]
  },
  {
   "cell_type": "code",
   "execution_count": 9,
   "metadata": {},
   "outputs": [
    {
     "data": {
      "text/plain": [
       "array([[1. , 4. , 0. , 0. ],\n",
       "       [1.1, 3.9, 0. , 0. ],\n",
       "       [1.2, 4.1, 0. , 0. ],\n",
       "       [0.9, 3.7, 0. , 0. ],\n",
       "       [7. , 4. , 0. , 1. ],\n",
       "       [7.2, 4.1, 0. , 1. ],\n",
       "       [6.9, 3.9, 0. , 1. ],\n",
       "       [7.1, 4.2, 0. , 1. ],\n",
       "       [4. , 1. , 1. , 0. ],\n",
       "       [4.1, 0.9, 1. , 0. ],\n",
       "       [4.2, 1.1, 1. , 0. ],\n",
       "       [3.9, 0.8, 1. , 0. ],\n",
       "       [4. , 7. , 1. , 1. ],\n",
       "       [4.2, 7.2, 1. , 1. ],\n",
       "       [3.9, 7.1, 1. , 1. ],\n",
       "       [4.1, 6.8, 1. , 1. ]])"
      ]
     },
     "execution_count": 9,
     "metadata": {},
     "output_type": "execute_result"
    }
   ],
   "source": [
    "data = np.loadtxt('data_nn.txt')\n",
    "features = data[:, 0:2]\n",
    "labels = data[:, 2:]\n",
    "\n",
    "data"
   ]
  },
  {
   "cell_type": "code",
   "execution_count": 10,
   "metadata": {},
   "outputs": [
    {
     "data": {
      "text/plain": [
       "array([[1. , 4. ],\n",
       "       [1.1, 3.9],\n",
       "       [1.2, 4.1],\n",
       "       [0.9, 3.7],\n",
       "       [7. , 4. ],\n",
       "       [7.2, 4.1],\n",
       "       [6.9, 3.9],\n",
       "       [7.1, 4.2],\n",
       "       [4. , 1. ],\n",
       "       [4.1, 0.9],\n",
       "       [4.2, 1.1],\n",
       "       [3.9, 0.8],\n",
       "       [4. , 7. ],\n",
       "       [4.2, 7.2],\n",
       "       [3.9, 7.1],\n",
       "       [4.1, 6.8]])"
      ]
     },
     "execution_count": 10,
     "metadata": {},
     "output_type": "execute_result"
    }
   ],
   "source": [
    "features"
   ]
  },
  {
   "cell_type": "code",
   "execution_count": 11,
   "metadata": {},
   "outputs": [
    {
     "data": {
      "text/plain": [
       "array([[0., 0.],\n",
       "       [0., 0.],\n",
       "       [0., 0.],\n",
       "       [0., 0.],\n",
       "       [0., 1.],\n",
       "       [0., 1.],\n",
       "       [0., 1.],\n",
       "       [0., 1.],\n",
       "       [1., 0.],\n",
       "       [1., 0.],\n",
       "       [1., 0.],\n",
       "       [1., 0.],\n",
       "       [1., 1.],\n",
       "       [1., 1.],\n",
       "       [1., 1.],\n",
       "       [1., 1.]])"
      ]
     },
     "execution_count": 11,
     "metadata": {},
     "output_type": "execute_result"
    }
   ],
   "source": [
    "labels"
   ]
  },
  {
   "cell_type": "code",
   "execution_count": 12,
   "metadata": {},
   "outputs": [
    {
     "data": {
      "text/plain": [
       "Text(0.5,1,'Input Data')"
      ]
     },
     "execution_count": 12,
     "metadata": {},
     "output_type": "execute_result"
    },
    {
     "data": {
      "image/png": "[encoded data removed]",
      "text/plain": [
       "<Figure size 432x288 with 1 Axes>"
      ]
     },
     "metadata": {},
     "output_type": "display_data"
    }
   ],
   "source": [
    "plt.scatter(features[:,0], features[:,1])\n",
    "plt.xlabel('1st Dimension')\n",
    "plt.ylabel('2nd Dimension')\n",
    "plt.title('Input Data')"
   ]
  },
  {
   "cell_type": "markdown",
   "metadata": {},
   "source": [
    "### 2. Single Layer Neural Network"
   ]
  },
  {
   "cell_type": "code",
   "execution_count": 13,
   "metadata": {},
   "outputs": [],
   "source": [
    "dim1_min, dim2_min, dim1_max, dim2_max = features[:,0].min(), features[:,1].min(), features[:,0].max(), features[:,1].max()\n",
    "num_output = labels.shape[1]\n",
    "dim1 = [dim1_min, dim1_max]\n",
    "dim2 = [dim2_min, dim2_max]\n",
    "single_nn = nl.net.newp([dim1, dim2], num_output)"
   ]
  },
  {
   "cell_type": "code",
   "execution_count": 14,
   "metadata": {},
   "outputs": [
    {
     "name": "stdout",
     "output_type": "stream",
     "text": [
      "Epoch: 20; Error: 4.0;\n",
      "Epoch: 40; Error: 4.0;\n",
      "Epoch: 60; Error: 4.0;\n",
      "Epoch: 80; Error: 4.0;\n",
      "Epoch: 100; Error: 4.0;\n",
      "The maximum number of train epochs is reached\n"
     ]
    }
   ],
   "source": [
    "err_progress = single_nn.train(features, labels, epochs=100, show=20, lr=0.03)"
   ]
  },
  {
   "cell_type": "code",
   "execution_count": 15,
   "metadata": {},
   "outputs": [
    {
     "data": {
      "image/png": "[encoded data removed]",
      "text/plain": [
       "<Figure size 432x288 with 1 Axes>"
      ]
     },
     "metadata": {},
     "output_type": "display_data"
    }
   ],
   "source": [
    "plt.plot(err_progress)\n",
    "plt.xlabel('Number of Epochs')\n",
    "plt.ylabel('Training Error')\n",
    "plt.title('Training Error Progress')\n",
    "plt.grid()"
   ]
  },
  {
   "cell_type": "code",
   "execution_count": 16,
   "metadata": {},
   "outputs": [
    {
     "name": "stdout",
     "output_type": "stream",
     "text": [
      "Test Data\n",
      "([0.1, 4.5], '=>', array([0., 0.]))\n",
      "([5.6, 0.4], '=>', array([1., 0.]))\n",
      "([10, 7], '=>', array([1., 1.]))\n"
     ]
    }
   ],
   "source": [
    "print('Test Data')\n",
    "test_data = [[0.1, 4.5], [5.6, 0.4], [10, 7]]\n",
    "for i in test_data:\n",
    "    print(i, '=>', single_nn.sim([i])[0])"
   ]
  },
  {
   "cell_type": "markdown",
   "metadata": {},
   "source": [
    "### 3. Multi Layer Neural Network"
   ]
  },
  {
   "cell_type": "code",
   "execution_count": 17,
   "metadata": {},
   "outputs": [],
   "source": [
    "min_val = -30\n",
    "max_val = 30\n",
    "num_points = 150\n",
    "\n",
    "x = np.linspace(min_val, max_val, num_points)\n",
    "y = 3*np.square(x) + 5 # inputs\n",
    "y /= np.linalg.norm(y) # pre-processing"
   ]
  },
  {
   "cell_type": "code",
   "execution_count": 18,
   "metadata": {},
   "outputs": [
    {
     "data": {
      "text/plain": [
       "Text(0.5,1,'Input Data')"
      ]
     },
     "execution_count": 18,
     "metadata": {},
     "output_type": "execute_result"
    },
    {
     "data": {
      "image/png": "[encoded data removed]",
      "text/plain": [
       "<Figure size 432x288 with 1 Axes>"
      ]
     },
     "metadata": {},
     "output_type": "display_data"
    }
   ],
   "source": [
    "features = x.reshape(num_points,1)\n",
    "labels = y.reshape(num_points,1)\n",
    "\n",
    "plt.scatter(features,labels)\n",
    "plt.xlabel('1st Dimension')\n",
    "plt.ylabel('2nd Dimension')\n",
    "plt.title('Input Data')"
   ]
  },
  {
   "cell_type": "code",
   "execution_count": 19,
   "metadata": {},
   "outputs": [
    {
     "name": "stdout",
     "output_type": "stream",
     "text": [
      "Epoch: 100; Error: 2.15517086637;\n",
      "Epoch: 200; Error: 0.0197886878027;\n",
      "The goal of learning is reached\n"
     ]
    }
   ],
   "source": [
    "ml_nn = nl.net.newff([[min_val, max_val]], [10,4,1])\n",
    "ml_nn.trainf = nl.train.train_gd # training with gradient descent and backprop\n",
    "err_progress = ml_nn.train(features, labels, epochs=2000, show=100, goal=0.01)"
   ]
  },
  {
   "cell_type": "code",
   "execution_count": 20,
   "metadata": {},
   "outputs": [
    {
     "data": {
      "text/plain": [
       "Text(0.5,1,'Actual vs. Predicted')"
      ]
     },
     "execution_count": 20,
     "metadata": {},
     "output_type": "execute_result"
    },
    {
     "data": {
      "image/png": "[encoded data removed]",
      "text/plain": [
       "<Figure size 432x288 with 1 Axes>"
      ]
     },
     "metadata": {},
     "output_type": "display_data"
    }
   ],
   "source": [
    "output = ml_nn.sim(features)\n",
    "\n",
    "y_prediction = output.reshape(num_points)\n",
    "x_dense = np.linspace(min_val, max_val, num_points*2)\n",
    "y_dense_prediction = ml_nn.sim(x_dense.reshape(x_dense.size,1)).reshape(x_dense.size)\n",
    "\n",
    "plt.plot(x_dense, y_dense_prediction, '-', x, y, '.', x, y_prediction, 'p')\n",
    "plt.title('Actual vs. Predicted')"
   ]
  },
  {
   "cell_type": "markdown",
   "metadata": {},
   "source": [
    "### 4. Recurrent Neural Network"
   ]
  },
  {
   "cell_type": "code",
   "execution_count": 21,
   "metadata": {},
   "outputs": [],
   "source": [
    "def get_data(num_points):\n",
    "    wave_one = 0.6 * np.sin(np.arange(0, num_points))\n",
    "    wave_two = 3.5 * np.sin(np.arange(0, num_points))\n",
    "    wave_three = 1.2 * np.sin(np.arange(0, num_points))\n",
    "    wave_four = 4.6 * np.sin(np.arange(0, num_points))\n",
    "    \n",
    "    amplitude_one = np.ones(num_points)\n",
    "    amplitude_two = 2.2 + np.zeros(num_points)\n",
    "    amplitude_three = 3.1 * np.ones(num_points)\n",
    "    amplitude_four = 0.9 * np.zeros(num_points)\n",
    "    \n",
    "    wave = np.array([wave_one, wave_two, wave_three, wave_four]).reshape(num_points*4,1)\n",
    "    amplitude = np.array([amplitude_one, amplitude_two, amplitude_three, amplitude_four]).reshape(num_points*4,1)\n",
    "    \n",
    "    return wave, amplitude\n",
    "\n",
    "def visualize_output(nn, num_points_test):\n",
    "    wave, amplitude = get_data(num_points_test)\n",
    "    output = nn.sim(wave)\n",
    "    plt.plot(amplitude.reshape(num_points_test*4))\n",
    "    plt.plot(output.reshape(num_points_test*4))\n",
    "\n",
    "if __name__ == '__main__':\n",
    "    num_points = 50\n",
    "    wave, amplitude = get_data(num_points)\n",
    "    #print wave\n",
    "    #print amplitude\n",
    "    "
   ]
  },
  {
   "cell_type": "code",
   "execution_count": 22,
   "metadata": {},
   "outputs": [],
   "source": [
    "nn = nl.net.newelm([[-2,2]], [10,1], [nl.trans.TanSig(), nl.trans.PureLin()])"
   ]
  },
  {
   "cell_type": "code",
   "execution_count": 23,
   "metadata": {},
   "outputs": [],
   "source": [
    "nn.layers[0].initf = nl.init.InitRand([-0.1, 0.1], 'wb')\n",
    "nn.layers[1].initf = nl.init.InitRand([-0.1, 0.1], 'wb')\n",
    "nn.init()"
   ]
  },
  {
   "cell_type": "code",
   "execution_count": 24,
   "metadata": {},
   "outputs": [
    {
     "name": "stdout",
     "output_type": "stream",
     "text": [
      "Epoch: 100; Error: 0.605538646823;\n",
      "Epoch: 200; Error: 0.0887698354754;\n",
      "Epoch: 300; Error: 0.0630334881811;\n",
      "Epoch: 400; Error: 0.0578594067308;\n",
      "Epoch: 500; Error: 0.0535427732829;\n",
      "Epoch: 600; Error: 0.0534453998593;\n",
      "Epoch: 700; Error: 0.0473501953151;\n",
      "Epoch: 800; Error: 0.0429349007668;\n",
      "Epoch: 900; Error: 0.0381031240665;\n",
      "Epoch: 1000; Error: 0.0333807561966;\n",
      "Epoch: 1100; Error: 0.0305038357951;\n",
      "Epoch: 1200; Error: 0.0314304621911;\n",
      "The maximum number of train epochs is reached\n"
     ]
    },
    {
     "data": {
      "image/png": "[encoded data removed]",
      "text/plain": [
       "<Figure size 432x288 with 2 Axes>"
      ]
     },
     "metadata": {},
     "output_type": "display_data"
    },
    {
     "data": {
      "image/png": "[encoded data removed]",
      "text/plain": [
       "<Figure size 432x288 with 2 Axes>"
      ]
     },
     "metadata": {},
     "output_type": "display_data"
    }
   ],
   "source": [
    "err_progress = nn.train(wave, amplitude, epochs=1200, show=100, goal=0.01)\n",
    "\n",
    "output = nn.sim(wave)\n",
    "\n",
    "plt.subplot(211)\n",
    "plt.plot(err_progress)\n",
    "plt.xlabel('#Epochs')\n",
    "plt.ylabel('Error (MSE)')\n",
    "\n",
    "plt.subplot(212)\n",
    "plt.plot(amplitude.reshape(num_points*4))\n",
    "plt.plot(output.reshape(num_points*4))\n",
    "plt.legend(['Original', 'Predicted'])\n",
    "\n",
    "plt.figure()\n",
    "plt.subplot(211)\n",
    "visualize_output(nn, 82)\n",
    "plt.xlim([0, 300])\n",
    "\n",
    "plt.subplot(212)\n",
    "visualize_output(nn, 49)\n",
    "plt.xlim([0, 300])\n",
    "plt.show()"
   ]
  },
  {
   "cell_type": "markdown",
   "metadata": {},
   "source": [
    "### 5. Optical Character Recognition"
   ]
  },
  {
   "cell_type": "code",
   "execution_count": 2,
   "metadata": {},
   "outputs": [],
   "source": [
    "import numpy as np\n",
    "import os\n",
    "import sys\n",
    "import cv2\n",
    "\n",
    "input = 'letter.data'"
   ]
  },
  {
   "cell_type": "code",
   "execution_count": null,
   "metadata": {},
   "outputs": [
    {
     "name": "stdout",
     "output_type": "stream",
     "text": [
      "1\to\t2\t1\t1\t0\t0\t0\t0\t0\t0\t0\t0\t0\t0\t0\t0\t0\t0\t0\t0\t0\t0\t0\t0\t0\t0\t0\t0\t0\t0\t1\t1\t1\t0\t0\t0\t0\t0\t1\t1\t1\t1\t1\t0\t0\t0\t1\t0\t0\t0\t1\t1\t0\t1\t1\t0\t0\t0\t0\t1\t1\t1\t0\t0\t0\t0\t0\t0\t1\t1\t0\t0\t0\t0\t0\t0\t1\t1\t0\t0\t0\t0\t0\t0\t1\t1\t0\t0\t0\t0\t0\t1\t1\t1\t0\t0\t0\t1\t1\t1\t0\t1\t1\t1\t1\t1\t0\t0\t0\t0\t0\t0\t0\t0\t0\t0\t0\t0\t0\t0\t0\t0\t0\t0\t0\t0\t0\t0\t0\t0\t0\t0\t0\t\n",
      "\n",
      "2\tm\t3\t1\t2\t0\t0\t0\t0\t0\t0\t0\t0\t0\t0\t0\t0\t0\t0\t0\t0\t0\t0\t0\t0\t0\t0\t0\t0\t0\t0\t0\t0\t0\t0\t0\t0\t0\t0\t0\t0\t0\t0\t0\t0\t0\t0\t0\t0\t0\t0\t0\t0\t0\t0\t1\t1\t1\t1\t1\t1\t0\t1\t1\t0\t1\t1\t0\t1\t1\t1\t0\t1\t1\t0\t0\t0\t1\t1\t0\t1\t1\t0\t0\t0\t1\t0\t0\t0\t0\t0\t0\t0\t0\t0\t0\t0\t0\t0\t0\t0\t0\t0\t0\t0\t0\t0\t0\t0\t0\t0\t0\t0\t0\t0\t0\t0\t0\t0\t0\t0\t0\t0\t0\t0\t0\t0\t0\t0\t0\t0\t0\t0\t0\t\n",
      "\n",
      "3\tm\t4\t1\t3\t0\t0\t0\t0\t0\t0\t0\t0\t0\t0\t0\t0\t0\t0\t0\t0\t0\t0\t0\t0\t0\t0\t0\t0\t0\t0\t0\t0\t0\t0\t0\t0\t0\t0\t0\t0\t0\t0\t0\t0\t0\t0\t0\t0\t0\t0\t0\t0\t0\t1\t1\t1\t0\t0\t1\t1\t0\t1\t0\t1\t0\t1\t1\t1\t0\t1\t0\t1\t1\t1\t0\t1\t0\t1\t0\t0\t1\t0\t0\t1\t1\t0\t0\t0\t0\t0\t0\t0\t0\t0\t0\t0\t0\t0\t0\t0\t0\t0\t0\t0\t0\t0\t0\t0\t0\t0\t0\t0\t0\t0\t0\t0\t0\t0\t0\t0\t0\t0\t0\t0\t0\t0\t0\t0\t0\t0\t0\t0\t0\t\n",
      "\n"
     ]
    }
   ],
   "source": [
    "image_factor = 12\n",
    "start, end = 6, -1\n",
    "height, width = 16, 8\n",
    "\n",
    "with open(input, 'r') as input_data:\n",
    "    for line in input_data.readlines():\n",
    "        data = np.array([255 * float(x) for x in line.split('\\t')[start:end]])\n",
    "        image = np.reshape(data, (height, width))\n",
    "        image_scaled = cv2.resize(image, None, fx=image_factor, fy=image_factor)\n",
    "        print(line)\n",
    "        cv2.imshow(\"Image\", image_scaled)\n",
    "        \n",
    "        c = cv2.waitKey()\n",
    "        if c == 27:\n",
    "            break"
   ]
  },
  {
   "cell_type": "code",
   "execution_count": null,
   "metadata": {},
   "outputs": [],
   "source": []
  }
 ],
 "metadata": {
  "kernelspec": {
   "display_name": "Python 2",
   "language": "python",
   "name": "python2"
  },
  "language_info": {
   "codemirror_mode": {
    "name": "ipython",
    "version": 2
   },
   "file_extension": ".py",
   "mimetype": "text/x-python",
   "name": "python",
   "nbconvert_exporter": "python",
   "pygments_lexer": "ipython2",
   "version": "2.7.15"
  }
 },
 "nbformat": 4,
 "nbformat_minor": 2
}
